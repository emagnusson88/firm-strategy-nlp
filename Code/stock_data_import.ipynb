{
 "cells": [
  {
   "cell_type": "markdown",
   "id": "748103d8-fe1f-417e-8b7a-740411634a33",
   "metadata": {},
   "source": [
    "# Import Financial Performance Data via Alpha Vantage API"
   ]
  },
  {
   "cell_type": "code",
   "execution_count": 96,
   "id": "cdd9bdfc-7c09-43ac-891e-f6af6d0e458b",
   "metadata": {},
   "outputs": [
    {
     "name": "stdout",
     "output_type": "stream",
     "text": [
      "All libraries loaded\n"
     ]
    }
   ],
   "source": [
    "import numpy as np\n",
    "import pandas as pd\n",
    "\n",
    "import torch\n",
    "import torch.nn as nn\n",
    "import torch.nn.functional as F\n",
    "import torch.optim as optim\n",
    "from torch.utils.data import Dataset\n",
    "from torch.utils.data import DataLoader\n",
    "\n",
    "import matplotlib.pyplot as plt\n",
    "from matplotlib.pyplot import figure\n",
    "\n",
    "from alpha_vantage.timeseries import TimeSeries \n",
    "import csv\n",
    "import os\n",
    "\n",
    "print(\"All libraries loaded\")"
   ]
  },
  {
   "cell_type": "markdown",
   "id": "f84e933b-de2e-44e7-9f51-36e8d41c7c57",
   "metadata": {},
   "source": [
    "Establish the API request parameters"
   ]
  },
  {
   "cell_type": "code",
   "execution_count": 186,
   "id": "5d025b66-49fc-4c25-a922-f23e9080a829",
   "metadata": {},
   "outputs": [],
   "source": [
    "config = {\n",
    "    \"alpha_vantage\": {\n",
    "        \"key\": \"VFX0IYC0TKUCTIWI\", # Claim your free API key here: https://www.alphavantage.co/support/#api-key\n",
    "        \"symbol\": \"ANFI\",\n",
    "        \"outputsize\": \"full\",\n",
    "        \"key_adjusted_close\": \"5. adjusted close\",\n",
    "    }\n",
    "}"
   ]
  },
  {
   "cell_type": "markdown",
   "id": "560d9868-b9c2-4504-b0e8-b36fd9d64d6e",
   "metadata": {},
   "source": [
    "Define the API request"
   ]
  },
  {
   "cell_type": "code",
   "execution_count": 187,
   "id": "093ca263-7cca-4c35-8741-17315ecad209",
   "metadata": {},
   "outputs": [],
   "source": [
    "def download_data(config):\n",
    "    ts = TimeSeries(key=config[\"alpha_vantage\"][\"key\"], output_format='csv')\n",
    "    data, meta_data = ts.get_daily_adjusted(config[\"alpha_vantage\"][\"symbol\"], outputsize=config[\"alpha_vantage\"][\"outputsize\"])\n",
    "\n",
    "    return data\n",
    "\n",
    "data = download_data(config)"
   ]
  },
  {
   "cell_type": "markdown",
   "id": "79108613-e603-426a-855b-7e413cacdffd",
   "metadata": {},
   "source": [
    "Write returns to csv for each company"
   ]
  },
  {
   "cell_type": "code",
   "execution_count": 224,
   "id": "dbdb1520-6466-41b7-82e2-f16f3e78bb17",
   "metadata": {},
   "outputs": [],
   "source": [
    "with open('Data/Returns/ANFI.csv', 'w') as write_csvfile:\n",
    "    writer = csv.writer(write_csvfile, dialect='excel')\n",
    "    for row in data:\n",
    "        writer.writerow(row)"
   ]
  },
  {
   "cell_type": "markdown",
   "id": "db660992-8022-47c8-8692-333e256c8989",
   "metadata": {},
   "source": [
    "Manually import last decade of S&P 500 annual returns"
   ]
  },
  {
   "cell_type": "code",
   "execution_count": 189,
   "id": "a24fe98e-b764-4344-9813-99570d6ac939",
   "metadata": {},
   "outputs": [],
   "source": [
    "# source: https://www.berkshirehathaway.com/letters/2019ltr.pdf\n",
    "SP500 = [['SP500',2010, 0.151]\n",
    "        ,['SP500',2011, 0.021]\n",
    "        ,['SP500',2012, 0.16]\n",
    "        ,['SP500',2013, 0.324]\n",
    "        ,['SP500',2014, 0.137]\n",
    "        ,['SP500',2015, 0.014]\n",
    "        ,['SP500',2016, 0.12]\n",
    "        ,['SP500',2017, 0.218]\n",
    "        ,['SP500',2018, -0.044]\n",
    "        ,['SP500',2019, 0.315]\n",
    "        ,['SP500',2020, 0.184]]\n",
    " \n",
    "# Create the pandas DataFrame\n",
    "df_returns = pd.DataFrame(SP500, columns = ['Ticker','Year', 'Adj_Return'])"
   ]
  },
  {
   "cell_type": "markdown",
   "id": "0636e5d8-eabe-4d82-929d-f2bbf683d6db",
   "metadata": {},
   "source": [
    "For each company, add annual returns to a master returns csv"
   ]
  },
  {
   "cell_type": "code",
   "execution_count": 191,
   "id": "ad9c805e-d280-435f-8494-e902414ac165",
   "metadata": {},
   "outputs": [],
   "source": [
    "tickers = ['ADM','ANFI','BGS','CAG','CPB','DAR','FLO','GIS'\n",
    "            ,'INGR','K','LW','MKC','NOMD','POST','SJM','THS','TR','TSN','HSY']\n",
    "\n",
    "stock_returns = []\n",
    "stock_returns.append(df_returns)\n",
    "\n",
    "for x in tickers:\n",
    "    df = pd.read_csv('Data/Returns/{}.csv'.format(x),header=0)\n",
    "    df.timestamp = pd.to_datetime(df.timestamp)\n",
    "    df.set_index('timestamp',inplace=True)\n",
    "    annual_returns = df['adjusted_close'].resample('Y').ffill().pct_change()\n",
    "    annual_returns = annual_returns.to_frame()\n",
    "    annual_returns.reset_index(level=0, inplace=True)\n",
    "    annual_returns = annual_returns[annual_returns['timestamp'].dt.year >= 2010]\n",
    "    annual_returns = annual_returns[annual_returns['timestamp'].dt.year <= 2020]\n",
    "    annual_returns['timestamp'] = annual_returns['timestamp'].dt.year\n",
    "    annual_returns['ticker'] = x\n",
    "    annual_returns = annual_returns[['ticker','timestamp','adjusted_close']]\n",
    "    annual_returns.rename(columns={'ticker':'Ticker','timestamp':'Year','adjusted_close':'Adj_Return'}, inplace=True)\n",
    "    stock_returns.append(annual_returns)\n",
    "\n",
    "return_data = pd.concat(stock_returns)\n",
    "return_data.reset_index(level=0, inplace=True)\n",
    "return_data.drop(columns=['index'], inplace=True)\n",
    "return_data.to_csv('Data/all_returns.csv')"
   ]
  },
  {
   "cell_type": "markdown",
   "id": "434878dc-e2f6-4854-9803-97c205b18105",
   "metadata": {},
   "source": [
    "Compare returns to S&P"
   ]
  },
  {
   "cell_type": "code",
   "execution_count": 218,
   "id": "99a6a185-680e-4c56-aa75-2f38a7eafb17",
   "metadata": {},
   "outputs": [
    {
     "data": {
      "text/html": [
       "<div>\n",
       "<style scoped>\n",
       "    .dataframe tbody tr th:only-of-type {\n",
       "        vertical-align: middle;\n",
       "    }\n",
       "\n",
       "    .dataframe tbody tr th {\n",
       "        vertical-align: top;\n",
       "    }\n",
       "\n",
       "    .dataframe thead th {\n",
       "        text-align: right;\n",
       "    }\n",
       "</style>\n",
       "<table border=\"1\" class=\"dataframe\">\n",
       "  <thead>\n",
       "    <tr style=\"text-align: right;\">\n",
       "      <th></th>\n",
       "      <th>Ticker</th>\n",
       "      <th>Year</th>\n",
       "      <th>Adj_Return</th>\n",
       "    </tr>\n",
       "  </thead>\n",
       "  <tbody>\n",
       "    <tr>\n",
       "      <th>0</th>\n",
       "      <td>ADM</td>\n",
       "      <td>2010</td>\n",
       "      <td>-0.019293</td>\n",
       "    </tr>\n",
       "    <tr>\n",
       "      <th>1</th>\n",
       "      <td>ADM</td>\n",
       "      <td>2011</td>\n",
       "      <td>-0.029051</td>\n",
       "    </tr>\n",
       "    <tr>\n",
       "      <th>2</th>\n",
       "      <td>ADM</td>\n",
       "      <td>2012</td>\n",
       "      <td>-0.018320</td>\n",
       "    </tr>\n",
       "    <tr>\n",
       "      <th>3</th>\n",
       "      <td>ADM</td>\n",
       "      <td>2013</td>\n",
       "      <td>0.618549</td>\n",
       "    </tr>\n",
       "    <tr>\n",
       "      <th>4</th>\n",
       "      <td>ADM</td>\n",
       "      <td>2014</td>\n",
       "      <td>0.223251</td>\n",
       "    </tr>\n",
       "  </tbody>\n",
       "</table>\n",
       "</div>"
      ],
      "text/plain": [
       "  Ticker  Year  Adj_Return\n",
       "0    ADM  2010   -0.019293\n",
       "1    ADM  2011   -0.029051\n",
       "2    ADM  2012   -0.018320\n",
       "3    ADM  2013    0.618549\n",
       "4    ADM  2014    0.223251"
      ]
     },
     "execution_count": 218,
     "metadata": {},
     "output_type": "execute_result"
    }
   ],
   "source": [
    "df_join = return_data[return_data['Ticker'] != 'SP500'].copy()\n",
    "df_join.reset_index(level=0, inplace=True)\n",
    "df_join.drop(columns=['index'], inplace=True)\n",
    "df_join.head()"
   ]
  },
  {
   "cell_type": "markdown",
   "id": "6049488e-5888-42d3-99af-3cc263ebaa03",
   "metadata": {},
   "source": [
    "Export returns data with 'Excess Returns' metric"
   ]
  },
  {
   "cell_type": "code",
   "execution_count": 223,
   "id": "2c9cadf9-ce15-44da-9bd4-015ae4e670e7",
   "metadata": {},
   "outputs": [],
   "source": [
    "input_data = df_join.merge(df_returns, left_on='Year', right_on='Year')\n",
    "input_data['Excess_Return'] = input_data['Adj_Return_x'] - input_data['Adj_Return_y']\n",
    "input_data.rename(columns={'Adj_Return_x':'Adj_Return','Adj_Return_y':'SP500_Return', 'Ticker_x':'Ticker'}, inplace=True)\n",
    "input_data.drop(columns=['Ticker_y'], inplace=True)\n",
    "input_data.to_csv('Data/returns_modeling.csv', index=False)"
   ]
  }
 ],
 "metadata": {
  "kernelspec": {
   "display_name": "Python 3",
   "language": "python",
   "name": "python3"
  },
  "language_info": {
   "codemirror_mode": {
    "name": "ipython",
    "version": 3
   },
   "file_extension": ".py",
   "mimetype": "text/x-python",
   "name": "python",
   "nbconvert_exporter": "python",
   "pygments_lexer": "ipython3",
   "version": "3.8.8"
  }
 },
 "nbformat": 4,
 "nbformat_minor": 5
}
