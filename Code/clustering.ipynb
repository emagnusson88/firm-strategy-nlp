{
 "cells": [
  {
   "cell_type": "markdown",
   "id": "af133c85-48d5-480c-9abd-44664631270d",
   "metadata": {},
   "source": [
    "# K-Means Clustering"
   ]
  },
  {
   "cell_type": "code",
   "execution_count": 1,
   "id": "9ed562da-79af-4e77-85a8-1043b4c5d90c",
   "metadata": {},
   "outputs": [],
   "source": [
    "\"\"\"\n",
    "Created on Sun Jul 25 14:41:06 2021\n",
    "\n",
    "@author: Jos Vilier\n",
    "Kmeans clustering for bag of words model (PCA)\n",
    "\"\"\"\n",
    "import pandas as pd\n",
    "import numpy as np\n",
    "from sklearn.preprocessing import StandardScaler\n",
    "from sklearn.cluster import KMeans\n",
    "import matplotlib.pyplot as plt"
   ]
  },
  {
   "cell_type": "markdown",
   "id": "0045fd74-c067-4dc1-9f21-1ebe17377682",
   "metadata": {},
   "source": [
    "Import principal components"
   ]
  },
  {
   "cell_type": "code",
   "execution_count": 3,
   "id": "0f69da37-be01-4dff-8795-2cdfa6861b4c",
   "metadata": {},
   "outputs": [],
   "source": [
    "data = pd.read_csv(\"Data/PCA/PCA_new_transformed_features.csv\").set_index(\"Unnamed: 0\", drop = True) # read PCA \n",
    "index = pd.read_csv(\"Data/Bag of words/bow_filtered.csv\")[\"Unnamed: 0\"] # read index\n",
    "data.index = index # bind index to data\n",
    "\n",
    "# normalize data\n",
    "data_unscaled = np.asarray(data)\n",
    "scaler = StandardScaler()\n",
    "data_scaled = scaler.fit_transform(data_unscaled)"
   ]
  },
  {
   "cell_type": "markdown",
   "id": "23a45223-fe34-4d6e-9e25-c9a81decd045",
   "metadata": {},
   "source": [
    "Import return data"
   ]
  },
  {
   "cell_type": "code",
   "execution_count": 4,
   "id": "c5f09697-d279-47db-a32c-a455ee8579be",
   "metadata": {},
   "outputs": [],
   "source": [
    "returns = pd.read_csv(\"Data/Returns/returns_modeling.csv\") # read return data\n",
    "returns['firm_year'] = returns['Ticker'] + '_' + (returns['Year']-1).astype(str) # store next year's return"
   ]
  },
  {
   "cell_type": "markdown",
   "id": "25e64354-141b-4c57-9961-6c5e220f7bc7",
   "metadata": {},
   "source": [
    "Calculate and plot residuals"
   ]
  },
  {
   "cell_type": "code",
   "execution_count": 5,
   "id": "c2c69fb9-0509-4034-916d-712d73798f04",
   "metadata": {},
   "outputs": [
    {
     "data": {
      "image/png": "[encoded data removed]",
      "text/plain": [
       "<Figure size 432x288 with 1 Axes>"
      ]
     },
     "metadata": {
      "needs_background": "light"
     },
     "output_type": "display_data"
    }
   ],
   "source": [
    "# calculate residuals as function of number of clusters\n",
    "residuals = []\n",
    "for i in range(1,10):\n",
    "    kmeans = KMeans(n_clusters=i, random_state=0).fit(data_scaled)\n",
    "    residuals.append(kmeans.inertia_)\n",
    "\n",
    "# plot residuals\n",
    "plt.plot(range(1,10), residuals)\n",
    "plt.xlabel(\"Number of clusters\")\n",
    "plt.ylabel(\"Residual\")\n",
    "plt.savefig(\"kmeans.png\")\n",
    "plt.show()"
   ]
  },
  {
   "cell_type": "markdown",
   "id": "81e6ecf6-409b-4314-b163-2ba963fa3584",
   "metadata": {},
   "source": [
    "Perform k-means clustering"
   ]
  },
  {
   "cell_type": "code",
   "execution_count": 7,
   "id": "da1ad2e6-7b28-4185-82d1-c0722e9a2fbf",
   "metadata": {},
   "outputs": [
    {
     "name": "stdout",
     "output_type": "stream",
     "text": [
      "[[ 3.97 -1.19  0.39 -1.07  0.02]\n",
      " [-0.47 -0.97  0.18  0.25 -0.05]\n",
      " [ 0.    0.82 -0.16 -0.09  0.04]]\n"
     ]
    },
    {
     "data": {
      "text/html": [
       "<div>\n",
       "<style scoped>\n",
       "    .dataframe tbody tr th:only-of-type {\n",
       "        vertical-align: middle;\n",
       "    }\n",
       "\n",
       "    .dataframe tbody tr th {\n",
       "        vertical-align: top;\n",
       "    }\n",
       "\n",
       "    .dataframe thead th {\n",
       "        text-align: right;\n",
       "    }\n",
       "</style>\n",
       "<table border=\"1\" class=\"dataframe\">\n",
       "  <thead>\n",
       "    <tr style=\"text-align: right;\">\n",
       "      <th></th>\n",
       "      <th>label</th>\n",
       "      <th>Excess_Return</th>\n",
       "    </tr>\n",
       "  </thead>\n",
       "  <tbody>\n",
       "  </tbody>\n",
       "</table>\n",
       "</div>"
      ],
      "text/plain": [
       "Empty DataFrame\n",
       "Columns: [label, Excess_Return]\n",
       "Index: []"
      ]
     },
     "metadata": {},
     "output_type": "display_data"
    }
   ],
   "source": [
    "# select 3 cluster centers\n",
    "kmeans = KMeans(n_clusters=3, random_state=0).fit(data_scaled)\n",
    "print(kmeans.cluster_centers_.round(2))\n",
    "\n",
    "# add return data to pca data\n",
    "data['label'] = kmeans.labels_\n",
    "data['firm_year'] = data.index\n",
    "\n",
    "# calculate average return per cluster\n",
    "combined_data = pd.merge(data, returns[['firm_year', 'Excess_Return']], on = 'firm_year')\n",
    "grp_by_label = combined_data.loc[:,['Excess_Return','label']].groupby('label').mean().reset_index()\n",
    "display(grp_by_label)"
   ]
  }
 ],
 "metadata": {
  "kernelspec": {
   "display_name": "Python 3",
   "language": "python",
   "name": "python3"
  },
  "language_info": {
   "codemirror_mode": {
    "name": "ipython",
    "version": 3
   },
   "file_extension": ".py",
   "mimetype": "text/x-python",
   "name": "python",
   "nbconvert_exporter": "python",
   "pygments_lexer": "ipython3",
   "version": "3.8.8"
  }
 },
 "nbformat": 4,
 "nbformat_minor": 5
}
