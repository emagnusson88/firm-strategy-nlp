{
 "cells": [
  {
   "cell_type": "markdown",
   "id": "4861442a-05b6-4c8d-867c-7bb477aeb6c5",
   "metadata": {},
   "source": [
    "# PCA for Bag of Words"
   ]
  },
  {
   "cell_type": "code",
   "execution_count": 119,
   "id": "071a564f-22b3-44a7-b9c1-e05bef5d48d3",
   "metadata": {},
   "outputs": [],
   "source": [
    "import pandas as pd\n",
    "import numpy as np\n",
    "import matplotlib.pyplot as plt\n",
    "from matplotlib.ticker import MaxNLocator\n",
    "\n",
    "%matplotlib inline"
   ]
  },
  {
   "cell_type": "code",
   "execution_count": 160,
   "id": "c16846b8-1fdd-4e8f-8c4d-faa4d46ce722",
   "metadata": {},
   "outputs": [
    {
     "data": {
      "text/html": [
       "<div>\n",
       "<style scoped>\n",
       "    .dataframe tbody tr th:only-of-type {\n",
       "        vertical-align: middle;\n",
       "    }\n",
       "\n",
       "    .dataframe tbody tr th {\n",
       "        vertical-align: top;\n",
       "    }\n",
       "\n",
       "    .dataframe thead th {\n",
       "        text-align: right;\n",
       "    }\n",
       "</style>\n",
       "<table border=\"1\" class=\"dataframe\">\n",
       "  <thead>\n",
       "    <tr style=\"text-align: right;\">\n",
       "      <th></th>\n",
       "      <th>Unnamed: 0</th>\n",
       "      <th>accountants</th>\n",
       "      <th>accounting</th>\n",
       "      <th>acquire</th>\n",
       "      <th>acquired</th>\n",
       "      <th>acquirers</th>\n",
       "      <th>acquiring</th>\n",
       "      <th>acquisition</th>\n",
       "      <th>acquisitions</th>\n",
       "      <th>activist</th>\n",
       "      <th>...</th>\n",
       "      <th>virus</th>\n",
       "      <th>viruses</th>\n",
       "      <th>wage</th>\n",
       "      <th>wages</th>\n",
       "      <th>warming</th>\n",
       "      <th>wholesale</th>\n",
       "      <th>wholesalers</th>\n",
       "      <th>worker</th>\n",
       "      <th>workers</th>\n",
       "      <th>workforce</th>\n",
       "    </tr>\n",
       "  </thead>\n",
       "  <tbody>\n",
       "    <tr>\n",
       "      <th>0</th>\n",
       "      <td>ADM_2012.txt</td>\n",
       "      <td>0.0</td>\n",
       "      <td>0.004717</td>\n",
       "      <td>0.000000</td>\n",
       "      <td>0.00000</td>\n",
       "      <td>0.00000</td>\n",
       "      <td>0.000000</td>\n",
       "      <td>0.004717</td>\n",
       "      <td>0.004717</td>\n",
       "      <td>0.0</td>\n",
       "      <td>...</td>\n",
       "      <td>0.000000</td>\n",
       "      <td>0.0</td>\n",
       "      <td>0.000000</td>\n",
       "      <td>0.000000</td>\n",
       "      <td>0.000000</td>\n",
       "      <td>0.000000</td>\n",
       "      <td>0.0</td>\n",
       "      <td>0.0</td>\n",
       "      <td>0.000000</td>\n",
       "      <td>0.004717</td>\n",
       "    </tr>\n",
       "    <tr>\n",
       "      <th>1</th>\n",
       "      <td>ADM_2015.txt</td>\n",
       "      <td>0.0</td>\n",
       "      <td>0.003717</td>\n",
       "      <td>0.000000</td>\n",
       "      <td>0.00000</td>\n",
       "      <td>0.00000</td>\n",
       "      <td>0.000000</td>\n",
       "      <td>0.011152</td>\n",
       "      <td>0.003717</td>\n",
       "      <td>0.0</td>\n",
       "      <td>...</td>\n",
       "      <td>0.000000</td>\n",
       "      <td>0.0</td>\n",
       "      <td>0.000000</td>\n",
       "      <td>0.000000</td>\n",
       "      <td>0.000000</td>\n",
       "      <td>0.000000</td>\n",
       "      <td>0.0</td>\n",
       "      <td>0.0</td>\n",
       "      <td>0.000000</td>\n",
       "      <td>0.003717</td>\n",
       "    </tr>\n",
       "    <tr>\n",
       "      <th>2</th>\n",
       "      <td>ADM_2018.txt</td>\n",
       "      <td>0.0</td>\n",
       "      <td>0.002950</td>\n",
       "      <td>0.000000</td>\n",
       "      <td>0.00295</td>\n",
       "      <td>0.00295</td>\n",
       "      <td>0.000000</td>\n",
       "      <td>0.017699</td>\n",
       "      <td>0.008850</td>\n",
       "      <td>0.0</td>\n",
       "      <td>...</td>\n",
       "      <td>0.000000</td>\n",
       "      <td>0.0</td>\n",
       "      <td>0.000000</td>\n",
       "      <td>0.000000</td>\n",
       "      <td>0.000000</td>\n",
       "      <td>0.000000</td>\n",
       "      <td>0.0</td>\n",
       "      <td>0.0</td>\n",
       "      <td>0.000000</td>\n",
       "      <td>0.002950</td>\n",
       "    </tr>\n",
       "    <tr>\n",
       "      <th>3</th>\n",
       "      <td>ANFI_2015.txt</td>\n",
       "      <td>0.0</td>\n",
       "      <td>0.003428</td>\n",
       "      <td>0.002571</td>\n",
       "      <td>0.00000</td>\n",
       "      <td>0.00000</td>\n",
       "      <td>0.000857</td>\n",
       "      <td>0.003428</td>\n",
       "      <td>0.005998</td>\n",
       "      <td>0.0</td>\n",
       "      <td>...</td>\n",
       "      <td>0.001714</td>\n",
       "      <td>0.0</td>\n",
       "      <td>0.000857</td>\n",
       "      <td>0.000857</td>\n",
       "      <td>0.003428</td>\n",
       "      <td>0.001714</td>\n",
       "      <td>0.0</td>\n",
       "      <td>0.0</td>\n",
       "      <td>0.005141</td>\n",
       "      <td>0.001714</td>\n",
       "    </tr>\n",
       "    <tr>\n",
       "      <th>4</th>\n",
       "      <td>ANFI_2018.txt</td>\n",
       "      <td>0.0</td>\n",
       "      <td>0.001634</td>\n",
       "      <td>0.000000</td>\n",
       "      <td>0.00000</td>\n",
       "      <td>0.00000</td>\n",
       "      <td>0.000000</td>\n",
       "      <td>0.000817</td>\n",
       "      <td>0.006536</td>\n",
       "      <td>0.0</td>\n",
       "      <td>...</td>\n",
       "      <td>0.000000</td>\n",
       "      <td>0.0</td>\n",
       "      <td>0.000000</td>\n",
       "      <td>0.000000</td>\n",
       "      <td>0.003268</td>\n",
       "      <td>0.003268</td>\n",
       "      <td>0.0</td>\n",
       "      <td>0.0</td>\n",
       "      <td>0.000817</td>\n",
       "      <td>0.001634</td>\n",
       "    </tr>\n",
       "  </tbody>\n",
       "</table>\n",
       "<p>5 rows × 423 columns</p>\n",
       "</div>"
      ],
      "text/plain": [
       "      Unnamed: 0  accountants  accounting   acquire  acquired  acquirers  \\\n",
       "0   ADM_2012.txt          0.0    0.004717  0.000000   0.00000    0.00000   \n",
       "1   ADM_2015.txt          0.0    0.003717  0.000000   0.00000    0.00000   \n",
       "2   ADM_2018.txt          0.0    0.002950  0.000000   0.00295    0.00295   \n",
       "3  ANFI_2015.txt          0.0    0.003428  0.002571   0.00000    0.00000   \n",
       "4  ANFI_2018.txt          0.0    0.001634  0.000000   0.00000    0.00000   \n",
       "\n",
       "   acquiring  acquisition  acquisitions  activist  ...     virus  viruses  \\\n",
       "0   0.000000     0.004717      0.004717       0.0  ...  0.000000      0.0   \n",
       "1   0.000000     0.011152      0.003717       0.0  ...  0.000000      0.0   \n",
       "2   0.000000     0.017699      0.008850       0.0  ...  0.000000      0.0   \n",
       "3   0.000857     0.003428      0.005998       0.0  ...  0.001714      0.0   \n",
       "4   0.000000     0.000817      0.006536       0.0  ...  0.000000      0.0   \n",
       "\n",
       "       wage     wages   warming  wholesale  wholesalers  worker   workers  \\\n",
       "0  0.000000  0.000000  0.000000   0.000000          0.0     0.0  0.000000   \n",
       "1  0.000000  0.000000  0.000000   0.000000          0.0     0.0  0.000000   \n",
       "2  0.000000  0.000000  0.000000   0.000000          0.0     0.0  0.000000   \n",
       "3  0.000857  0.000857  0.003428   0.001714          0.0     0.0  0.005141   \n",
       "4  0.000000  0.000000  0.003268   0.003268          0.0     0.0  0.000817   \n",
       "\n",
       "   workforce  \n",
       "0   0.004717  \n",
       "1   0.003717  \n",
       "2   0.002950  \n",
       "3   0.001714  \n",
       "4   0.001634  \n",
       "\n",
       "[5 rows x 423 columns]"
      ]
     },
     "execution_count": 160,
     "metadata": {},
     "output_type": "execute_result"
    }
   ],
   "source": [
    "df = pd.read_csv('Data/Bag of words/bow_filtered.csv')  \n",
    "df.head() # 42 data points, 422 words"
   ]
  },
  {
   "cell_type": "markdown",
   "id": "62c65ad9-aa23-4867-b5fc-f01029b3ca49",
   "metadata": {},
   "source": [
    "Scaling each feature"
   ]
  },
  {
   "cell_type": "code",
   "execution_count": 155,
   "id": "9c28a8d0-fc77-49d0-bc1e-aa4e96ab291d",
   "metadata": {},
   "outputs": [],
   "source": [
    "X = df.values[:,1:]\n",
    "\n",
    "from sklearn.preprocessing import StandardScaler\n",
    "X = StandardScaler().fit_transform(X)"
   ]
  },
  {
   "cell_type": "markdown",
   "id": "d92aab57-5af3-4c89-b454-43dcfa45f0a6",
   "metadata": {},
   "source": [
    "Perform 20-component PCA to evaluate the marginal explained variances"
   ]
  },
  {
   "cell_type": "code",
   "execution_count": 156,
   "id": "1bec8c8a-e21a-449f-bf70-8fc0a3dd9ae0",
   "metadata": {},
   "outputs": [
    {
     "data": {
      "text/plain": [
       "PCA(n_components=20)"
      ]
     },
     "execution_count": 156,
     "metadata": {},
     "output_type": "execute_result"
    }
   ],
   "source": [
    "from sklearn.decomposition import PCA\n",
    "pca = PCA(n_components=20)\n",
    "pca.fit(X)"
   ]
  },
  {
   "cell_type": "code",
   "execution_count": 157,
   "id": "e29da313-b6a0-482b-a8e0-1f616fe79df8",
   "metadata": {},
   "outputs": [
    {
     "data": {
      "image/png": "[encoded data removed]",
      "text/plain": [
       "<Figure size 864x432 with 1 Axes>"
      ]
     },
     "metadata": {
      "needs_background": "light"
     },
     "output_type": "display_data"
    }
   ],
   "source": [
    "# adapted from: https://www.mikulskibartosz.name/pca-how-to-choose-the-number-of-components/\n",
    "plt.rcParams[\"figure.figsize\"] = (12,6)\n",
    "\n",
    "fig, ax = plt.subplots()\n",
    "xi = np.arange(1, 21, step=1)\n",
    "y = np.cumsum(pca.explained_variance_ratio_)\n",
    "\n",
    "plt.ylim(0.0,1.1)\n",
    "plt.plot(xi, y, marker='o', linestyle='--', color='b')\n",
    "\n",
    "plt.xlabel('Number of Components', size=15)\n",
    "plt.xticks(np.arange(0, 21, step=1))\n",
    "plt.ylabel('Cumulative variance (%)', size=15)\n",
    "plt.title('Cumulative Variance Explained', size=18)\n",
    "\n",
    "plt.axhline(y=0.75, color='r', linestyle='-')\n",
    "plt.text(0.5, 0.85, '75% cut-off threshold', color = 'red', fontsize=16)\n",
    "\n",
    "ax.grid(axis='x')\n",
    "plt.show()"
   ]
  },
  {
   "cell_type": "code",
   "execution_count": 158,
   "id": "38a28d8c-f766-4daf-90d9-2dfba135e78c",
   "metadata": {},
   "outputs": [
    {
     "data": {
      "image/png": "[encoded data removed]",
      "text/plain": [
       "<Figure size 864x432 with 1 Axes>"
      ]
     },
     "metadata": {
      "needs_background": "light"
     },
     "output_type": "display_data"
    }
   ],
   "source": [
    "ax = plt.figure().gca()\n",
    "plt.plot(np.arange(1,21,1).astype(int), pca.explained_variance_ratio_)\n",
    "plt.title('PCA - Explained Variance', size=18)\n",
    "plt.xlabel('Principal Component', size=15)\n",
    "plt.ylabel('Marginal Explained Variance', size=15)\n",
    "ax.xaxis.set_major_locator(MaxNLocator(integer=True))\n",
    "plt.show()"
   ]
  },
  {
   "cell_type": "markdown",
   "id": "a9407e36-c310-4f8f-a07a-78b02299548f",
   "metadata": {},
   "source": [
    "Perform 5-component PCA based on the dropoff in explained variance and the limited sample size of the data set"
   ]
  },
  {
   "cell_type": "code",
   "execution_count": 148,
   "id": "4668fb5f-a4b7-477a-8bbf-c69581a4ecab",
   "metadata": {},
   "outputs": [
    {
     "data": {
      "text/plain": [
       "PCA(n_components=5)"
      ]
     },
     "execution_count": 148,
     "metadata": {},
     "output_type": "execute_result"
    }
   ],
   "source": [
    "from sklearn.decomposition import PCA\n",
    "pca = PCA(n_components=5)\n",
    "pca.fit(X)"
   ]
  },
  {
   "cell_type": "code",
   "execution_count": 104,
   "id": "494709ac-b7b7-4e66-93b5-741108c58ffa",
   "metadata": {},
   "outputs": [
    {
     "name": "stdout",
     "output_type": "stream",
     "text": [
      "Explained variation per principal component:\n",
      "[0.10271927 0.06942544 0.06607747 0.05827922 0.05599765]\n"
     ]
    }
   ],
   "source": [
    "print('Explained variation per principal component:')\n",
    "print(pca.explained_variance_ratio_)"
   ]
  },
  {
   "cell_type": "code",
   "execution_count": 149,
   "id": "046392eb-68eb-4ba7-b98a-c092ad2c41ff",
   "metadata": {},
   "outputs": [
    {
     "data": {
      "image/png": "[encoded data removed]",
      "text/plain": [
       "<Figure size 864x432 with 1 Axes>"
      ]
     },
     "metadata": {
      "needs_background": "light"
     },
     "output_type": "display_data"
    }
   ],
   "source": [
    "ax = plt.figure().gca()\n",
    "plt.plot(np.arange(1,6,1).astype(int), pca.explained_variance_ratio_)\n",
    "plt.title('PCA - Explained Variance', size=18)\n",
    "plt.xlabel('Principal Component', size=15)\n",
    "plt.ylabel('Marginal Explained Variance', size=15)\n",
    "ax.xaxis.set_major_locator(MaxNLocator(integer=True))\n",
    "plt.show()"
   ]
  },
  {
   "cell_type": "code",
   "execution_count": 93,
   "id": "f1ff1c01-7ea1-42ba-8229-50b6f377f074",
   "metadata": {},
   "outputs": [
    {
     "data": {
      "text/plain": [
       "(5, 422)"
      ]
     },
     "execution_count": 93,
     "metadata": {},
     "output_type": "execute_result"
    }
   ],
   "source": [
    "# each principal component expressed in the original feature space\n",
    "pca.components_.shape"
   ]
  },
  {
   "cell_type": "markdown",
   "id": "1b8c9df3-aac7-4f7b-a225-923e35670838",
   "metadata": {},
   "source": [
    "Export principal component data expressed in the original feature space to csv for analysis:"
   ]
  },
  {
   "cell_type": "code",
   "execution_count": 94,
   "id": "a4ce981b-8d6f-4b1b-b865-7938eb299b0f",
   "metadata": {},
   "outputs": [],
   "source": [
    "df_feature_space = pd.DataFrame(pca.components_)\n",
    "df_feature_space.columns = df.columns[1:]\n",
    "df_feature_space.to_csv('Data/PCA/PCA_original_feature_weights.csv')"
   ]
  },
  {
   "cell_type": "code",
   "execution_count": 95,
   "id": "e7236973-0985-4565-a2e9-31c4971acfa8",
   "metadata": {},
   "outputs": [
    {
     "data": {
      "text/plain": [
       "array([44.40478868, 30.01211113, 28.56480633, 25.19368179, 24.20737551])"
      ]
     },
     "execution_count": 95,
     "metadata": {},
     "output_type": "execute_result"
    }
   ],
   "source": [
    "# explained variance values for each of the 5 principal components\n",
    "pca.explained_variance_"
   ]
  },
  {
   "cell_type": "code",
   "execution_count": 96,
   "id": "ff8972a1-6733-4f8e-8a3a-7f8f5e508b70",
   "metadata": {},
   "outputs": [
    {
     "data": {
      "text/plain": [
       "(42, 5)"
      ]
     },
     "execution_count": 96,
     "metadata": {},
     "output_type": "execute_result"
    }
   ],
   "source": [
    "# 5 new features created from the principal component analysis\n",
    "PCs = pca.transform(X)\n",
    "PCs.shape"
   ]
  },
  {
   "cell_type": "markdown",
   "id": "72800ea7-5c60-4766-b5b7-c8636316468c",
   "metadata": {},
   "source": [
    "Export principal components to csv for analysis:"
   ]
  },
  {
   "cell_type": "code",
   "execution_count": 97,
   "id": "ae63c45d-68d2-422d-8b80-2a150ac0cd43",
   "metadata": {},
   "outputs": [],
   "source": [
    "df_feature_space = pd.DataFrame(PCs)\n",
    "df_feature_space.to_csv('Data/PCA/PCA_new_transformed_features.csv')"
   ]
  }
 ],
 "metadata": {
  "kernelspec": {
   "display_name": "Python 3",
   "language": "python",
   "name": "python3"
  },
  "language_info": {
   "codemirror_mode": {
    "name": "ipython",
    "version": 3
   },
   "file_extension": ".py",
   "mimetype": "text/x-python",
   "name": "python",
   "nbconvert_exporter": "python",
   "pygments_lexer": "ipython3",
   "version": "3.8.8"
  }
 },
 "nbformat": 4,
 "nbformat_minor": 5
}
